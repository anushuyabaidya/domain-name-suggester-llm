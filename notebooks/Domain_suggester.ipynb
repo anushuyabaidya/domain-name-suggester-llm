{
 "cells": [
  {
   "metadata": {},
   "cell_type": "markdown",
   "source": "# Section 1: Business Description Generation",
   "id": "3f903c3de6af63b6"
  },
  {
   "metadata": {
    "collapsed": true,
    "ExecuteTime": {
     "end_time": "2025-08-04T16:13:19.631521Z",
     "start_time": "2025-08-04T16:13:19.387987Z"
    }
   },
   "cell_type": "code",
   "source": [
    "import random\n",
    "import pandas as pd\n",
    "\n",
    "class BusinessDescriptionGenerator:\n",
    "    \"\"\"Generates realistic business descriptions for training\"\"\"\n",
    "    def __init__(self):\n",
    "        self.business_data = {\n",
    "            \"tech\": {\n",
    "                \"types\": [\"app development\", \"software company\", \"startup\", \"SaaS platform\"],\n",
    "                \"specialties\": [\"AI\", \"mobile apps\", \"web development\", \"automation\"],\n",
    "                \"style\": [\"innovative\", \"cutting-edge\", \"fast-growing\", \"scalable\"]\n",
    "            },\n",
    "            \"food\": {\n",
    "                \"types\": [\"coffee shop\", \"restaurant\", \"bakery\", \"food truck\"],\n",
    "                \"specialties\": [\"organic\", \"vegan\", \"artisan\", \"farm-to-table\"],\n",
    "                \"style\": [\"local\", \"family-owned\", \"cozy\", \"fresh\"]\n",
    "            },\n",
    "            \"health\": {\n",
    "                \"types\": [\"yoga studio\", \"fitness center\", \"spa\", \"wellness clinic\"],\n",
    "                \"specialties\": [\"holistic\", \"therapeutic\", \"relaxing\", \"healing\"],\n",
    "                \"style\": [\"peaceful\", \"professional\", \"welcoming\", \"modern\"]\n",
    "            },\n",
    "            \"retail\": {\n",
    "                \"types\": [\"boutique\", \"online store\", \"shop\", \"marketplace\"],\n",
    "                \"specialties\": [\"handmade\", \"vintage\", \"designer\", \"sustainable\"],\n",
    "                \"style\": [\"trendy\", \"affordable\", \"unique\", \"quality\"]\n",
    "            }\n",
    "        }\n",
    "\n",
    "        self.templates = [\n",
    "            \"{style} {type} specializing in {specialty}\",\n",
    "            \"{specialty} {type} in the {style} district\",\n",
    "            \"We run a {style} {type} focused on {specialty}\",\n",
    "            \"Local {specialty} {type} with {style} approach\",\n",
    "            \"{type} offering {specialty} services\"\n",
    "        ]\n",
    "\n",
    "    def create_one_description(self, category=None):\n",
    "        \"\"\"Create one business description\"\"\"\n",
    "        if not category:\n",
    "            category = random.choice(list(self.business_data.keys()))\n",
    "        data = self.business_data[category]\n",
    "        business_type = random.choice(data[\"types\"])\n",
    "        specialty = random.choice(data[\"specialties\"])\n",
    "        style = random.choice(data[\"style\"])\n",
    "        template = random.choice(self.templates)\n",
    "        description = template.format(\n",
    "            type=business_type,\n",
    "            specialty=specialty,\n",
    "            style=style\n",
    "        )\n",
    "\n",
    "        return {\n",
    "            \"description\": description,\n",
    "            \"category\": category,\n",
    "            \"business_type\": business_type,\n",
    "            \"specialty\": specialty,\n",
    "            \"style\": style\n",
    "        }\n",
    "\n",
    "    def create_training_data(self, total_samples=400):\n",
    "        \"\"\"Create training dataset\"\"\"\n",
    "        all_data = []\n",
    "        samples_per_category = total_samples // len(self.business_data)\n",
    "        for category in self.business_data.keys():\n",
    "            for _ in range(samples_per_category):\n",
    "                sample = self.create_one_description(category)\n",
    "                all_data.append(sample)\n",
    "        return pd.DataFrame(all_data)"
   ],
   "id": "initial_id",
   "outputs": [],
   "execution_count": 1
  },
  {
   "metadata": {
    "ExecuteTime": {
     "end_time": "2025-08-04T16:13:19.687728Z",
     "start_time": "2025-08-04T16:13:19.684614Z"
    }
   },
   "cell_type": "code",
   "source": [
    "class DomainGenerator:\n",
    "    \"\"\"Generates domain suggestions from business descriptions\"\"\"\n",
    "    def __init__(self):\n",
    "        self.extensions = [\".com\", \".net\", \".org\", \".io\"]\n",
    "\n",
    "    def extract_keywords(self, business_data):\n",
    "        \"\"\"Extract keywords from business description parts\"\"\"\n",
    "        keywords = []\n",
    "        type_words = business_data[\"business_type\"].replace(\" \", \"\").lower()\n",
    "        keywords.append(type_words)\n",
    "        specialty = business_data[\"specialty\"].lower()\n",
    "        if \" \" not in specialty:\n",
    "            keywords.append(specialty)\n",
    "        style = business_data[\"style\"].lower()\n",
    "        if style in [\"local\", \"smart\", \"quick\", \"best\", \"top\"]:\n",
    "            keywords.append(style)\n",
    "        return keywords\n",
    "\n",
    "    def create_domains(self, business_data):\n",
    "        \"\"\"Create domain suggestions\"\"\"\n",
    "        keywords = self.extract_keywords(business_data)\n",
    "        domains = []\n",
    "\n",
    "        # Pattern 1: single keyword + extension\n",
    "        if keywords:\n",
    "            domain = keywords[0] + random.choice(self.extensions)\n",
    "            domains.append(domain)\n",
    "\n",
    "        # Pattern 2: combine two keywords\n",
    "        if len(keywords) >= 2:\n",
    "            domain = keywords[0] + keywords[1] + random.choice(self.extensions)\n",
    "            domains.append(domain)\n",
    "\n",
    "        # Pattern 3: keyword + \"hub\"/\"pro\"/\"co\"\n",
    "        if keywords:\n",
    "            suffix = random.choice([\"hub\", \"pro\", \"co\", \"spot\"])\n",
    "            domain = keywords[0] + suffix + random.choice(self.extensions)\n",
    "            domains.append(domain)\n",
    "\n",
    "        return domains[:3]"
   ],
   "id": "b902d851aa117c5b",
   "outputs": [],
   "execution_count": 2
  },
  {
   "metadata": {
    "ExecuteTime": {
     "end_time": "2025-08-04T16:13:19.708867Z",
     "start_time": "2025-08-04T16:13:19.706302Z"
    }
   },
   "cell_type": "code",
   "source": [
    "def create_complete_training_data(num_samples=400):\n",
    "    \"\"\"Create complete training data with descriptions and domains\"\"\"\n",
    "    print(f\"Creating {num_samples} training samples...\")\n",
    "\n",
    "    desc_generator = BusinessDescriptionGenerator()\n",
    "    business_df = desc_generator.create_training_data(num_samples)\n",
    "    domain_generator = DomainGenerator()\n",
    "    training_data = []\n",
    "    for _, row in business_df.iterrows():\n",
    "        business_data = {\n",
    "            \"business_type\": row[\"business_type\"],\n",
    "            \"specialty\": row[\"specialty\"],\n",
    "            \"style\": row[\"style\"]\n",
    "        }\n",
    "\n",
    "        domains = domain_generator.create_domains(business_data)\n",
    "        training_text = f\"Business: {row['description']} Domains: {', '.join(domains)}\"\n",
    "        training_data.append({\n",
    "            \"business_description\": row[\"description\"],\n",
    "            \"category\": row[\"category\"],\n",
    "            \"domains\": domains,\n",
    "            \"training_text\": training_text\n",
    "        })\n",
    "\n",
    "    training_df = pd.DataFrame(training_data)\n",
    "    print(f\"Created {len(training_df)} training samples\")\n",
    "    print(f\"Categories: {training_df['category'].value_counts().to_dict()}\")\n",
    "    return training_df"
   ],
   "id": "ac6eb432d47219f3",
   "outputs": [],
   "execution_count": 3
  },
  {
   "metadata": {
    "ExecuteTime": {
     "end_time": "2025-08-04T16:13:19.749728Z",
     "start_time": "2025-08-04T16:13:19.722343Z"
    }
   },
   "cell_type": "code",
   "source": [
    "if __name__ == \"__main__\":\n",
    "    training_file_path = \"../data/training_data.csv\"\n",
    "    generator = BusinessDescriptionGenerator()\n",
    "    print(\"Creating Complete Training Data\")\n",
    "    training_data = create_complete_training_data(1000)\n",
    "    print(\"\\nTraining Examples:\")\n",
    "    for i in range(3):\n",
    "        print(f\"{i+1}. {training_data.iloc[i]['training_text']}\")\n",
    "\n",
    "    training_data.to_csv(training_file_path, index=False)\n",
    "    print(f\"\\nSaved training data to training_data.csv\")"
   ],
   "id": "af39b8837ad00fca",
   "outputs": [
    {
     "name": "stdout",
     "output_type": "stream",
     "text": [
      "Creating Complete Training Data\n",
      "Creating 1000 training samples...\n",
      "Created 1000 training samples\n",
      "Categories: {'tech': 250, 'food': 250, 'health': 250, 'retail': 250}\n",
      "\n",
      "Training Examples:\n",
      "1. Business: startup offering automation services Domains: startup.com, startupautomation.net, startuphub.net\n",
      "2. Business: mobile apps software company in the cutting-edge district Domains: softwarecompany.io, softwarecompanyco.net\n",
      "3. Business: automation startup in the fast-growing district Domains: startup.com, startupautomation.io, startuphub.com\n",
      "\n",
      "Saved training data to training_data.csv\n"
     ]
    }
   ],
   "execution_count": 4
  }
 ],
 "metadata": {
  "kernelspec": {
   "display_name": "Python 3",
   "language": "python",
   "name": "python3"
  },
  "language_info": {
   "codemirror_mode": {
    "name": "ipython",
    "version": 2
   },
   "file_extension": ".py",
   "mimetype": "text/x-python",
   "name": "python",
   "nbconvert_exporter": "python",
   "pygments_lexer": "ipython2",
   "version": "2.7.6"
  }
 },
 "nbformat": 4,
 "nbformat_minor": 5
}
